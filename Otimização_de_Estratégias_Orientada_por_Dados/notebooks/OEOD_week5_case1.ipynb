{
 "cells": [
  {
   "cell_type": "markdown",
   "metadata": {},
   "source": [
    "<font size=\"5\">\n",
    " <div class=\"alert alert-block alert-info\"><b>Master in Data Science - Iscte <b>\n",
    "     </div>\n",
    "</font> \n",
    " \n",
    " \n",
    "     \n",
    "    \n",
    "  <font size=\"5\"> OEOD </font>\n",
    "  \n",
    "  \n",
    "  \n",
    "  <font size=\"3\"> **Diana Aldea Mendes**, October 2023 </font>\n",
    "  \n",
    "   \n",
    "  <font size=\"3\"> *diana.mendes@iscte-iul.pt* </font> \n",
    "  \n",
    "    \n",
    " \n",
    "  \n",
    "    \n",
    "  <font color='blue'><font size=\"5\"> <b>Week 5 - Case study 1 - RL for finance (algorithmic trading)<b></font></font>"
   ]
  },
  {
   "cell_type": "markdown",
   "metadata": {
    "id": "Dt7GkVURKLVn"
   },
   "source": [
    "# RL for algorithmic trading\n",
    "\n",
    "- **Main purpose**: define a trading strategy and predict if you buy or sell\n",
    "- A trading strategy is a systematic methodology used for buying and selling in the securities markets. \n",
    "- The Trading strategy is based on predefined rules used to make the trading decisions.\n",
    "- Usually we define some rule like the following: - We go long (buy the stock) if the %A line goes below x, and the Trend and Signal line are lesser than -y. Similarly, we go short (sell the stock) if the %A line crosses above z, and Trend and Signal are greater than y. \n",
    "    \n",
    "    - End-of-day trading strategy: trade when the price is going to ‘settle’ or close\n",
    "    - Trend trading strategy: a trader uses *technical analysis* to define a trend, and only enters trades in the direction of the pre-determined trend.\n",
    "    - Position trading strategy: trader holds a position for a long period of time, usually months or years, ignoring minor price fluctuations in favor of profiting from long-term trends (use *fundamental analysis*)\n",
    "    - Pairs trading\n",
    "    - Momentum trading\n",
    "    - Moving Average (MA) or Exponential Moving Average (EMA)\n",
    "    - Bollinger band based strategy\n",
    " \n"
   ]
  },
  {
   "cell_type": "code",
   "execution_count": 1,
   "metadata": {
    "ExecuteTime": {
     "end_time": "2023-10-17T15:17:06.601329Z",
     "start_time": "2023-10-17T15:17:06.580334Z"
    }
   },
   "outputs": [
    {
     "ename": "ModuleNotFoundError",
     "evalue": "No module named 'yfinance'",
     "output_type": "error",
     "traceback": [
      "\u001b[0;31m---------------------------------------------------------------------------\u001b[0m",
      "\u001b[0;31mModuleNotFoundError\u001b[0m                       Traceback (most recent call last)",
      "\u001b[1;32m/home/robertomedina/Documents/Master Data Science/Otimização_de_Estratégias_Orientada_por_Dados/notebooks/OEOD_week5_case1.ipynb Cell 3\u001b[0m line \u001b[0;36m3\n\u001b[1;32m      <a href='vscode-notebook-cell:/home/robertomedina/Documents/Master%20Data%20Science/Otimiza%C3%A7%C3%A3o_de_Estrat%C3%A9gias_Orientada_por_Dados/notebooks/OEOD_week5_case1.ipynb#W2sZmlsZQ%3D%3D?line=0'>1</a>\u001b[0m \u001b[39m# import libraries\u001b[39;00m\n\u001b[0;32m----> <a href='vscode-notebook-cell:/home/robertomedina/Documents/Master%20Data%20Science/Otimiza%C3%A7%C3%A3o_de_Estrat%C3%A9gias_Orientada_por_Dados/notebooks/OEOD_week5_case1.ipynb#W2sZmlsZQ%3D%3D?line=2'>3</a>\u001b[0m \u001b[39mimport\u001b[39;00m \u001b[39myfinance\u001b[39;00m \u001b[39mas\u001b[39;00m \u001b[39myf\u001b[39;00m  \u001b[39m# import data from web (financial time series)\u001b[39;00m\n\u001b[1;32m      <a href='vscode-notebook-cell:/home/robertomedina/Documents/Master%20Data%20Science/Otimiza%C3%A7%C3%A3o_de_Estrat%C3%A9gias_Orientada_por_Dados/notebooks/OEOD_week5_case1.ipynb#W2sZmlsZQ%3D%3D?line=3'>4</a>\u001b[0m \u001b[39mimport\u001b[39;00m \u001b[39mnumpy\u001b[39;00m \u001b[39mas\u001b[39;00m \u001b[39mnp\u001b[39;00m\n\u001b[1;32m      <a href='vscode-notebook-cell:/home/robertomedina/Documents/Master%20Data%20Science/Otimiza%C3%A7%C3%A3o_de_Estrat%C3%A9gias_Orientada_por_Dados/notebooks/OEOD_week5_case1.ipynb#W2sZmlsZQ%3D%3D?line=4'>5</a>\u001b[0m \u001b[39mimport\u001b[39;00m \u001b[39mpandas\u001b[39;00m \u001b[39mas\u001b[39;00m \u001b[39mpd\u001b[39;00m\n",
      "\u001b[0;31mModuleNotFoundError\u001b[0m: No module named 'yfinance'"
     ]
    }
   ],
   "source": [
    "# import libraries\n",
    "\n",
    "import yfinance as yf  # import data from web (financial time series)\n",
    "import numpy as np\n",
    "import pandas as pd\n",
    "import matplotlib.pyplot as plt  ## interactive data visualization\n",
    "\n",
    "# high-quality figures\n",
    "%config InlineBackend.figure_format = 'svg'\n"
   ]
  },
  {
   "cell_type": "markdown",
   "metadata": {},
   "source": [
    "## Import and visualize data"
   ]
  },
  {
   "cell_type": "code",
   "execution_count": null,
   "metadata": {
    "ExecuteTime": {
     "end_time": "2023-10-17T15:17:09.400952Z",
     "start_time": "2023-10-17T15:17:09.004471Z"
    },
    "id": "RoGIxEXZKjlF"
   },
   "outputs": [],
   "source": [
    "\n",
    "# historical stock price data for QQQ , from the period 2016 to 2022\n",
    "## QQQ - biggest online retail companies (Amazon, Booking, Costco, Airbnb, eBay, etc)\n",
    "\n",
    "qqq = yf.Ticker(\"QQQ\")\n",
    "data = qqq.history(start=\"2016-01-01\", end=\"2022-12-31\")\n",
    "\n",
    "\n",
    "data.head()\n"
   ]
  },
  {
   "cell_type": "code",
   "execution_count": null,
   "metadata": {
    "ExecuteTime": {
     "end_time": "2023-10-17T15:17:15.151897Z",
     "start_time": "2023-10-17T15:17:14.893275Z"
    }
   },
   "outputs": [],
   "source": [
    "data.Close.plot();"
   ]
  },
  {
   "cell_type": "code",
   "execution_count": null,
   "metadata": {
    "ExecuteTime": {
     "end_time": "2023-10-17T15:17:15.852166Z",
     "start_time": "2023-10-17T15:17:15.534494Z"
    }
   },
   "outputs": [],
   "source": [
    "## visualize signal and moving average lines\n",
    "\n",
    "start_date = '2021-01-01'\n",
    "end_date = '2022-12-31'\n",
    "\n",
    "# Calculating the short-window simple moving average\n",
    "short_rolling = data.rolling(window=20).mean()\n",
    "short_rolling.head(20)\n",
    "\n",
    "# Calculating the long-window simple moving average\n",
    "long_rolling = data.rolling(window=100).mean()\n",
    "long_rolling.tail()\n",
    "\n",
    "\n",
    "fig, ax = plt.subplots(figsize=(8,5))\n",
    "\n",
    "ax.plot(data.loc[start_date:end_date, :].index, data.loc[start_date:end_date, 'Close'], label='QQQ Close Price')\n",
    "ax.plot(long_rolling.loc[start_date:end_date, :].index, long_rolling.loc[start_date:end_date, 'Close'], label = '100-days SMA')\n",
    "ax.plot(short_rolling.loc[start_date:end_date, :].index, short_rolling.loc[start_date:end_date, 'Close'], label = '20-days SMA')\n",
    "\n",
    "ax.legend(loc='best')\n",
    "ax.set_ylabel('Price in $')\n"
   ]
  },
  {
   "cell_type": "markdown",
   "metadata": {
    "id": "v5JsbWXtK9ac"
   },
   "source": [
    "## Define trading strategy and backtesting\n",
    "\n",
    "- Define a trading strategy: \n",
    "    - Buy when the price is above the 50-day moving average \n",
    "    - sell otherwise\n",
    "\n",
    "- To define a *moving average* (that is, smooth the data), we use the 'rolling' function and the window size (10 days, 20 days, 50 days, etc). We compute the mean of the last x values and roll this operations until the end of data. The resulting signal is smoother that the original data (highlight the trend and decrease the volatility)\n",
    "\n",
    "- When the price time series (signal) crosses the MA time series from below, we will close any existing short position and go long (buy) one unit of the asset.\n",
    "- When the price time series crosses the MA time series  from above, we will close any existing long position and go short (sell) one unit of the asset.\n",
    "\n",
    "`` data.rolling(window=20).mean()``\n",
    "\n",
    "- Backtesting: estimate (define some metrics, measure) the performance of the strategy\n",
    "- We need:\n",
    "    - log-returns (pct_change() function)\n",
    "    - cumulative log-returns\n",
    "    - variance - volatility\n",
    "    - Sharpe-ratio: measure the risk adjusted performance of an investment over time\n",
    "    - Value at Risk"
   ]
  },
  {
   "cell_type": "code",
   "execution_count": null,
   "metadata": {
    "ExecuteTime": {
     "end_time": "2023-10-17T15:17:17.137584Z",
     "start_time": "2023-10-17T15:17:17.123554Z"
    }
   },
   "outputs": [],
   "source": [
    "# Define the trading strategy\n",
    "def trading_strategy(data):\n",
    "    # Define your trading strategy based on the historical data\n",
    "    # Example: Buy when the price is above the 50-day moving average, sell otherwise\n",
    "    signals = pd.DataFrame(index=data.index)\n",
    "    signals['Signal'] = np.where(data['Close'] > data['Close'].rolling(window=50).mean(), 1, 0)\n",
    "    return signals"
   ]
  },
  {
   "cell_type": "code",
   "execution_count": null,
   "metadata": {
    "ExecuteTime": {
     "end_time": "2023-10-17T15:17:17.912789Z",
     "start_time": "2023-10-17T15:17:17.891791Z"
    }
   },
   "outputs": [],
   "source": [
    "# Perform backtesting\n",
    "def backtest(data, signals):\n",
    "    # Combine the historical data with the trading signals\n",
    "    df = pd.concat([data, signals], axis=1).dropna()\n",
    "\n",
    "    # Calculate daily returns\n",
    "    df['Return'] = df['Close'].pct_change()\n",
    "\n",
    "    # Calculate cumulative returns\n",
    "    df['Cumulative Return'] = (1 + df['Return']).cumprod()\n",
    "\n",
    "    # Calculate portfolio value\n",
    "    df['Portfolio Value'] = df['Cumulative Return'] * initial_investment\n",
    "\n",
    "    # Calculate risk-free rate (assumed to be 0 in this example)\n",
    "    risk_free_rate = 0\n",
    "\n",
    "    # Calculate metrics\n",
    "    num_trading_days = len(df)\n",
    "    returns = df['Return']\n",
    "    cumulative_returns = df['Cumulative Return']\n",
    "    portfolio_value = df['Portfolio Value']\n",
    "    annual_returns = (cumulative_returns[-1]) ** (252/num_trading_days) - 1\n",
    "    volatility = returns.std() * np.sqrt(252)  # Annualized volatility\n",
    "    sharpe_ratio = (annual_returns - risk_free_rate) / volatility\n",
    "    cagr = (cumulative_returns[-1]) ** (252/num_trading_days) - 1\n",
    "    # alpha, beta = np.polyfit(returns - risk_free_rate, market_returns - risk_free_rate, deg=1)\n",
    "    variance = returns.var() * 252\n",
    "    cvar = returns[returns <= np.percentile(returns, 5)].mean() * 252\n",
    "\n",
    "    return df, sharpe_ratio, cagr, cumulative_returns,  variance, cvar"
   ]
  },
  {
   "cell_type": "markdown",
   "metadata": {},
   "source": [
    "## Apply defined rules to data"
   ]
  },
  {
   "cell_type": "code",
   "execution_count": null,
   "metadata": {
    "ExecuteTime": {
     "end_time": "2023-10-17T15:17:19.171027Z",
     "start_time": "2023-10-17T15:17:19.156989Z"
    }
   },
   "outputs": [],
   "source": [
    "# Define initial investment amount\n",
    "initial_investment = 10000\n",
    "\n",
    "# Perform the trading strategy\n",
    "signals = trading_strategy(data)\n",
    "\n",
    "# Perform backtesting and calculate metrics\n",
    "backtest_results, sharpe_ratio, cagr, cumulative_returns,  variance, cvar = backtest(data, signals)"
   ]
  },
  {
   "cell_type": "code",
   "execution_count": null,
   "metadata": {
    "ExecuteTime": {
     "end_time": "2023-10-17T15:17:20.083742Z",
     "start_time": "2023-10-17T15:17:19.765379Z"
    }
   },
   "outputs": [],
   "source": [
    "# Plot the cumulative returns with entry and exit points\n",
    "plt.figure(figsize=(10, 6))\n",
    "plt.plot(backtest_results.index, cumulative_returns, label='Cumulative Returns')\n",
    "plt.scatter(backtest_results[backtest_results['Signal'] == 1].index, backtest_results[backtest_results['Signal'] == 1]['Cumulative Return'], color='green', s=8, label='Buy')\n",
    "plt.scatter(backtest_results[backtest_results['Signal'] == 0].index, backtest_results[backtest_results['Signal'] == 0]['Cumulative Return'], color='red',  s=8, label='Sell')\n",
    "plt.title('Cumulative Returns with Entry and Exit Points')\n",
    "plt.xlabel('Date')\n",
    "plt.ylabel('Cumulative Return')\n",
    "plt.legend()\n",
    "plt.grid(True)\n",
    "plt.show()\n"
   ]
  },
  {
   "cell_type": "code",
   "execution_count": null,
   "metadata": {
    "ExecuteTime": {
     "end_time": "2023-10-17T15:17:20.794758Z",
     "start_time": "2023-10-17T15:17:20.779755Z"
    }
   },
   "outputs": [],
   "source": [
    "# Print the calculated metrics\n",
    "print(f\"Sharpe Ratio: {sharpe_ratio:.2f}\")\n",
    "print(f\"CAGR: {cagr:.2%}\")\n",
    "print(f\"Cumulative Returns: {cumulative_returns[-1]:.2%}\")\n",
    "#print(f\"Alpha: {alpha:.4f}\")\n",
    "#print(f\"Beta: {beta:.4f}\")\n",
    "print(f\"Variance: {variance:.6f}\")\n",
    "print(f\"CVaR: {cvar:.6f}\")"
   ]
  },
  {
   "cell_type": "markdown",
   "metadata": {},
   "source": [
    "####################################################################\n",
    "\n",
    "- CAGR - Compound Annual Growth Rate - measures the average annual growth rate of an investment over a given period of time. \n",
    "- For example, if you invest 1000 dollars in a stock that has a 10% CAGR, your investment will grow to 1100 dollars after one year, 1210 dollars after two years, and so on.\n",
    "- The Sharpe ratio is a measure of risk-adjusted return. \n",
    "- For example, if an investment has a 10% return and a standard deviation of 5%, the Sharpe ratio would be 2. This means that the investment has a higher return than the benchmark, but with a lower level of risk. The Sharpe ratio is calculated as (R_a-R_b)/σ_a, where R_a is the expected return on the asset, R_b is the return on the risk-free asset, and σ_a is the standard deviation of the asset’s returns\n"
   ]
  },
  {
   "cell_type": "markdown",
   "metadata": {},
   "source": [
    "## Q-learning agent\n",
    "\n",
    "- Environment: the market including historical price data, relevant indicators, and other market factors.\n",
    "- State: the current market condition of the environment such as price, volume, or market information at a particular time.\n",
    "- Action: the trading action such as “buy” or “sell”.\n",
    "- Policy: the objective - such as maximizing returns, minimizing risk, or achieving a specific target.\n",
    "- Reward: This is the gains in the market.\n",
    "- The reinforcement learning agent: Develop an agent that learns to make trading decisions based on the observed environment state (Q-learning). \n",
    "\n",
    "- Epsilon-greedy policy is a RL algorithm that uses a greedy approach to make decisions. It works by choosing the action that has the highest expected reward.\n",
    "-  Q-learning update rule: multiply the current Q-value by a learning rate, and add a negative exponential decay term. \n",
    "\n",
    "- **Note**: we can incorporate human feedback in reinforcement learning for algorithmic trading - ongoing research area - **RLHF** (*reinforcement learning with human feedback*)"
   ]
  },
  {
   "cell_type": "code",
   "execution_count": null,
   "metadata": {
    "ExecuteTime": {
     "end_time": "2023-10-17T15:17:23.117912Z",
     "start_time": "2023-10-17T15:17:23.107913Z"
    }
   },
   "outputs": [],
   "source": [
    "# Define the Q-learning agent\n",
    "class QLearningAgent:\n",
    "    def __init__(self, num_states, num_actions, alpha, gamma):\n",
    "        self.num_states = num_states\n",
    "        self.num_actions = num_actions\n",
    "        self.alpha = alpha  # Learning rate\n",
    "        self.gamma = gamma  # Discount factor\n",
    "        self.q_table = np.zeros((num_states, num_actions))\n",
    "\n",
    "    def update_q_table(self, state, action, reward, next_state):\n",
    "        # Q-learning update rule\n",
    "        max_q_value = np.max(self.q_table[next_state])\n",
    "        self.q_table[state, action] += self.alpha * (reward + self.gamma * max_q_value - self.q_table[state, action])\n",
    "\n",
    "    def choose_action(self, state, epsilon):\n",
    "        # Epsilon-greedy policy for action selection\n",
    "        if np.random.uniform() < epsilon:\n",
    "            return np.random.choice(self.num_actions)\n",
    "        else:\n",
    "            return np.argmax(self.q_table[state])"
   ]
  },
  {
   "cell_type": "code",
   "execution_count": null,
   "metadata": {
    "ExecuteTime": {
     "end_time": "2023-10-17T15:17:23.865639Z",
     "start_time": "2023-10-17T15:17:23.843609Z"
    }
   },
   "outputs": [],
   "source": [
    "# Define the trading strategy with Q-learning and human feedback\n",
    "def trading_strategy(data, q_agent, entry_points, exit_points, initial_investment):\n",
    "    num_states = 2  # Number of states (0: out of the market, 1: in the market)\n",
    "    num_actions = 2  # Number of actions (0: no trade, 1: trade)\n",
    "\n",
    "    epsilon = 0.1  # Exploration rate\n",
    "    total_reward = 0  # Track total reward\n",
    "    portfolio_value = [initial_investment]  # Track portfolio value\n",
    "    trades = []  # Track executed trades\n",
    "\n",
    "    # Iterate over each trading day\n",
    "    for i in range(len(data) - 1):\n",
    "        state = 0 if portfolio_value[-1] == 0 else 1  # Current state\n",
    "\n",
    "        # Check if an entry point exists for the current day\n",
    "        if data.index[i] in entry_points:\n",
    "            # Get the recommended action for the current day from human feedback\n",
    "            action = entry_points[data.index[i]]\n",
    "\n",
    "            # Execute the recommended action\n",
    "            if action == 'BUY' and state == 0:\n",
    "                state = 1  # Enter the market\n",
    "                shares = portfolio_value[-1] / data['Close'][i]  # Buy as many shares as possible\n",
    "                trades.append(('BUY', data.index[i], data['Close'][i], shares))\n",
    "            elif action == 'SELL' and state == 1:\n",
    "                state = 0  # Exit the market\n",
    "                shares = portfolio_value[-1] / data['Close'][i]  # Sell all shares\n",
    "                trades.append(('SELL', data.index[i], data['Close'][i], shares))\n",
    "\n",
    "        # Calculate the reward based on the portfolio value change\n",
    "        reward = (portfolio_value[-1] - portfolio_value[-2]) / portfolio_value[-2] if i > 0 else 0\n",
    "        total_reward += reward\n",
    "\n",
    "        # Choose the action using epsilon-greedy policy\n",
    "        action = q_agent.choose_action(state, epsilon)\n",
    "\n",
    "        # Execute the action\n",
    "        if action == 1 and state == 0:\n",
    "            state = 1  # Enter the market\n",
    "            shares = portfolio_value[-1] / data['Close'][i]  # Buy as many shares as possible\n",
    "            trades.append(('BUY', data.index[i], data['Close'][i], shares))\n",
    "        elif action == 0 and state == 1:\n",
    "            state = 0  # Exit the market\n",
    "            shares = portfolio_value[-1] / data['Close'][i]  # Sell all shares\n",
    "            trades.append(('SELL', data.index[i], data['Close'][i], shares))\n",
    "\n",
    "        # Update the Q-table\n",
    "        next_state = 0 if state == 0 else 1  # Next state\n",
    "        q_agent.update_q_table(state, action, reward, next_state)\n",
    "\n",
    "        # Update the portfolio value\n",
    "        portfolio_value.append(shares * data['Close'][i])\n",
    "\n",
    "    return total_reward, portfolio_value, trades"
   ]
  },
  {
   "cell_type": "code",
   "execution_count": null,
   "metadata": {
    "ExecuteTime": {
     "end_time": "2023-10-17T15:17:24.715571Z",
     "start_time": "2023-10-17T15:17:24.571982Z"
    }
   },
   "outputs": [],
   "source": [
    "# Define the entry and exit points (example)\n",
    "entry_points = {\n",
    "    '2018-04-01': 'BUY',\n",
    "    '2018-05-01': 'SELL',\n",
    "    '2018-08-01': 'BUY',\n",
    "    '2018-09-01': 'SELL'\n",
    "}\n",
    "\n",
    "exit_points = {\n",
    "    '2018-05-01': 'SELL',\n",
    "    '2018-06-01': 'BUY',\n",
    "    '2018-09-01': 'SELL',\n",
    "    '2018-10-01': 'BUY'\n",
    "}\n",
    "\n",
    "# Set the initial investment\n",
    "initial_investment = 10000\n",
    "\n",
    "# Create the Q-learning agent\n",
    "q_agent = QLearningAgent(num_states=2, num_actions=2, alpha=0.2, gamma=0.9)\n",
    "\n",
    "# Apply the trading strategy\n",
    "total_reward, portfolio_value, trades = trading_strategy(data, q_agent, entry_points, exit_points, initial_investment)\n"
   ]
  },
  {
   "cell_type": "code",
   "execution_count": null,
   "metadata": {
    "ExecuteTime": {
     "end_time": "2023-10-17T15:17:25.502216Z",
     "start_time": "2023-10-17T15:17:25.276673Z"
    }
   },
   "outputs": [],
   "source": [
    "# Calculate metrics\n",
    "returns = np.diff(portfolio_value) / portfolio_value[:-1]\n",
    "sharpe_ratio = np.sqrt(252) * np.mean(returns) / np.std(returns)\n",
    "cagr = (portfolio_value[-1] / portfolio_value[0]) ** (252 / len(data)) - 1\n",
    "cumulative_returns = (portfolio_value[-1] - portfolio_value[0]) / portfolio_value[0]\n",
    "variance = np.var(returns)\n",
    "cvar = np.mean(returns[returns < np.percentile(returns, 5)])\n",
    "alpha, beta = np.polyfit(data['Close'].pct_change().dropna(), returns, deg=1)\n",
    "\n",
    "# Plot portfolio performance\n",
    "plt.figure(figsize=(10, 6))\n",
    "plt.plot(data.index, portfolio_value, label='Portfolio Value')\n",
    "plt.xlabel('Date')\n",
    "plt.ylabel('Value')\n",
    "plt.title('Portfolio Performance')\n",
    "plt.legend()\n",
    "plt.grid(True)\n",
    "plt.show()"
   ]
  },
  {
   "cell_type": "code",
   "execution_count": null,
   "metadata": {
    "ExecuteTime": {
     "end_time": "2023-10-17T15:17:26.246920Z",
     "start_time": "2023-10-17T15:17:26.227920Z"
    }
   },
   "outputs": [],
   "source": [
    "# Print metrics\n",
    "print('Metrics:')\n",
    "print(f'Sharpe Ratio: {sharpe_ratio:.3f}')\n",
    "print(f'CAGR: {cagr:.3f}')\n",
    "print(f'Cumulative Returns: {cumulative_returns:.3f}')\n",
    "print(f'Variance: {variance:.6f}')\n",
    "print(f'CVaR (Conditional Value at Risk): {cvar:.6f}')\n",
    "print(f'Alpha: {alpha:.6f}')\n",
    "print(f'Beta: {beta:.6f}')\n",
    "print(f'portfolio_value: {portfolio_value[-1]:.6f}')"
   ]
  },
  {
   "cell_type": "code",
   "execution_count": null,
   "metadata": {},
   "outputs": [],
   "source": []
  },
  {
   "cell_type": "code",
   "execution_count": null,
   "metadata": {},
   "outputs": [],
   "source": []
  }
 ],
 "metadata": {
  "colab": {
   "provenance": []
  },
  "hide_input": false,
  "kernelspec": {
   "display_name": "Python 3 (ipykernel)",
   "language": "python",
   "name": "python3"
  },
  "language_info": {
   "codemirror_mode": {
    "name": "ipython",
    "version": 3
   },
   "file_extension": ".py",
   "mimetype": "text/x-python",
   "name": "python",
   "nbconvert_exporter": "python",
   "pygments_lexer": "ipython3",
   "version": "3.10.12"
  },
  "latex_envs": {
   "LaTeX_envs_menu_present": true,
   "autoclose": false,
   "autocomplete": true,
   "bibliofile": "biblio.bib",
   "cite_by": "apalike",
   "current_citInitial": 1,
   "eqLabelWithNumbers": true,
   "eqNumInitial": 1,
   "hotkeys": {
    "equation": "Ctrl-E",
    "itemize": "Ctrl-I"
   },
   "labels_anchors": false,
   "latex_user_defs": false,
   "report_style_numbering": false,
   "user_envs_cfg": false
  },
  "nbTranslate": {
   "displayLangs": [
    "*"
   ],
   "hotkey": "alt-t",
   "langInMainMenu": true,
   "sourceLang": "en",
   "targetLang": "fr",
   "useGoogleTranslate": true
  },
  "toc": {
   "base_numbering": 1,
   "nav_menu": {},
   "number_sections": true,
   "sideBar": true,
   "skip_h1_title": false,
   "title_cell": "Table of Contents",
   "title_sidebar": "Contents",
   "toc_cell": false,
   "toc_position": {},
   "toc_section_display": true,
   "toc_window_display": false
  },
  "varInspector": {
   "cols": {
    "lenName": 16,
    "lenType": 16,
    "lenVar": 40
   },
   "kernels_config": {
    "python": {
     "delete_cmd_postfix": "",
     "delete_cmd_prefix": "del ",
     "library": "var_list.py",
     "varRefreshCmd": "print(var_dic_list())"
    },
    "r": {
     "delete_cmd_postfix": ") ",
     "delete_cmd_prefix": "rm(",
     "library": "var_list.r",
     "varRefreshCmd": "cat(var_dic_list()) "
    }
   },
   "types_to_exclude": [
    "module",
    "function",
    "builtin_function_or_method",
    "instance",
    "_Feature"
   ],
   "window_display": false
  }
 },
 "nbformat": 4,
 "nbformat_minor": 1
}
